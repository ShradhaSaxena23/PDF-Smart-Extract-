{
 "cells": [
  {
   "cell_type": "code",
   "execution_count": 13,
   "id": "3e91bdfd",
   "metadata": {},
   "outputs": [],
   "source": [
    "import warnings\n",
    "warnings.filterwarnings(\"ignore\")\n",
    "\n"
   ]
  },
  {
   "cell_type": "markdown",
   "id": "cec1ce2e",
   "metadata": {},
   "source": [
    "importing and installing libraries for exteacting the images"
   ]
  },
  {
   "cell_type": "code",
   "execution_count": 14,
   "id": "f3449b81",
   "metadata": {},
   "outputs": [
    {
     "name": "stdout",
     "output_type": "stream",
     "text": [
      "Requirement already satisfied: PyMuPDF in c:\\users\\91945\\appdata\\local\\programs\\python\\python311\\lib\\site-packages (1.24.5)Note: you may need to restart the kernel to use updated packages.\n",
      "\n",
      "Requirement already satisfied: PyMuPDFb==1.24.3 in c:\\users\\91945\\appdata\\local\\programs\\python\\python311\\lib\\site-packages (from PyMuPDF) (1.24.3)\n"
     ]
    },
    {
     "name": "stderr",
     "output_type": "stream",
     "text": [
      "DEPRECATION: Loading egg at c:\\users\\91945\\appdata\\local\\programs\\python\\python311\\lib\\site-packages\\vboxapi-1.0-py3.11.egg is deprecated. pip 23.3 will enforce this behaviour change. A possible replacement is to use pip for package installation..\n",
      "\n",
      "[notice] A new release of pip is available: 23.2.1 -> 24.1.2\n",
      "[notice] To update, run: python.exe -m pip install --upgrade pip\n"
     ]
    }
   ],
   "source": [
    "pip install PyMuPDF\n"
   ]
  },
  {
   "cell_type": "code",
   "execution_count": 15,
   "id": "30817812",
   "metadata": {},
   "outputs": [],
   "source": [
    "import fitz "
   ]
  },
  {
   "cell_type": "markdown",
   "id": "bd5345b9",
   "metadata": {},
   "source": [
    "Extracting images from pdf using pyMuPDF and storing the all extracted images in a folder named extractedimage "
   ]
  },
  {
   "cell_type": "code",
   "execution_count": 16,
   "id": "84e4998d",
   "metadata": {},
   "outputs": [],
   "source": [
    "import os\n",
    "import fitz \n",
    "\n",
    "def pdf_extracted_images(pdf_path, output_folder):\n",
    "   \n",
    "    os.makedirs(output_folder, exist_ok=True)\n",
    "    doc = fitz.open(pdf_path)\n",
    "    for i in range(len(doc)):\n",
    "        page = doc.load_page(i)\n",
    "        images = page.get_images(full=True)\n",
    "        for img_index, img in enumerate(images):\n",
    "            xref = img[0]\n",
    "            base_image = doc.extract_image(xref)\n",
    "            image_bytes = base_image[\"image\"]\n",
    "            image_ext = base_image[\"ext\"]\n",
    "            image_name = f\"page_{i+1}_img_{img_index+1}.{image_ext}\"\n",
    "            with open(f\"{output_folder}/{image_name}\", \"wb\") as img_file:\n",
    "                img_file.write(image_bytes)\n",
    "\n",
    "\n",
    "pdf_extracted_images(\"well_student.pdf\", \"extractedimage\")"
   ]
  },
  {
   "cell_type": "code",
   "execution_count": 17,
   "id": "17d278af",
   "metadata": {},
   "outputs": [
    {
     "name": "stdout",
     "output_type": "stream",
     "text": [
      "Requirement already satisfied: PyPDF2 in c:\\users\\91945\\appdata\\local\\programs\\python\\python311\\lib\\site-packages (3.0.1)\n",
      "Note: you may need to restart the kernel to use updated packages.\n"
     ]
    },
    {
     "name": "stderr",
     "output_type": "stream",
     "text": [
      "DEPRECATION: Loading egg at c:\\users\\91945\\appdata\\local\\programs\\python\\python311\\lib\\site-packages\\vboxapi-1.0-py3.11.egg is deprecated. pip 23.3 will enforce this behaviour change. A possible replacement is to use pip for package installation..\n",
      "\n",
      "[notice] A new release of pip is available: 23.2.1 -> 24.1.2\n",
      "[notice] To update, run: python.exe -m pip install --upgrade pip\n"
     ]
    }
   ],
   "source": [
    "pip install PyPDF2\n"
   ]
  },
  {
   "cell_type": "code",
   "execution_count": 18,
   "id": "c495b3db",
   "metadata": {},
   "outputs": [
    {
     "name": "stdout",
     "output_type": "stream",
     "text": [
      "Note: you may need to restart the kernel to use updated packages.Requirement already satisfied: Pillow in c:\\users\\91945\\appdata\\local\\programs\\python\\python311\\lib\\site-packages (10.0.0)\n",
      "\n"
     ]
    },
    {
     "name": "stderr",
     "output_type": "stream",
     "text": [
      "DEPRECATION: Loading egg at c:\\users\\91945\\appdata\\local\\programs\\python\\python311\\lib\\site-packages\\vboxapi-1.0-py3.11.egg is deprecated. pip 23.3 will enforce this behaviour change. A possible replacement is to use pip for package installation..\n",
      "\n",
      "[notice] A new release of pip is available: 23.2.1 -> 24.1.2\n",
      "[notice] To update, run: python.exe -m pip install --upgrade pip\n"
     ]
    }
   ],
   "source": [
    "pip install Pillow\n"
   ]
  },
  {
   "cell_type": "code",
   "execution_count": 19,
   "id": "af8dfe05",
   "metadata": {},
   "outputs": [],
   "source": [
    "import os\n",
    "import fitz  \n",
    "import PyPDF2\n",
    "from PIL import Image"
   ]
  },
  {
   "cell_type": "markdown",
   "id": "11d56c66",
   "metadata": {},
   "source": [
    "removing spilited images "
   ]
  },
  {
   "cell_type": "code",
   "execution_count": 20,
   "id": "03460189",
   "metadata": {},
   "outputs": [],
   "source": [
    "def remove_spilited_image(folder_path, min_width, min_height):\n",
    "    for filename in os.listdir(folder_path):\n",
    "        if filename.lower().endswith(('.png', '.jpg', '.jpeg')):\n",
    "            file_path = os.path.join(folder_path, filename)\n",
    "            with Image.open(file_path) as img:\n",
    "                width, height = img.size\n",
    "            if width < min_width or height < min_height:\n",
    "                os.remove(file_path)\n",
    "                \n",
    "output_folder = \"extractedimage\"\n",
    "min_width = 55  \n",
    "min_height = 55  \n",
    "\n",
    "os.makedirs(output_folder, exist_ok=True)\n",
    "\n",
    "remove_spilited_image(output_folder, min_width, min_height)"
   ]
  },
  {
   "cell_type": "markdown",
   "id": "7d94e36a",
   "metadata": {},
   "source": [
    "implementing different augmentation technique to remove currupted images."
   ]
  },
  {
   "cell_type": "code",
   "execution_count": 21,
   "id": "83c07f0a",
   "metadata": {},
   "outputs": [
    {
     "name": "stdout",
     "output_type": "stream",
     "text": [
      "Ignored image page_1_img_1.jpeg due to insufficient dimensions.\n"
     ]
    }
   ],
   "source": [
    "import fitz \n",
    "import os\n",
    "from PIL import Image\n",
    "import random\n",
    "\n",
    "def extract_augmentedimages_with_text(pdf_path, output_folder, margin=100, min_dimension=65):\n",
    "    doc = fitz.open(pdf_path)\n",
    "    for page_num in range(len(doc)):\n",
    "        page = doc.load_page(page_num)\n",
    "        images = page.get_images(full=True)\n",
    "        \n",
    "        for img_index, img in enumerate(images):\n",
    "            xref = img[0]\n",
    "            base_image = doc.extract_image(xref)\n",
    "            image_bytes = base_image[\"image\"]\n",
    "            image_ext = base_image[\"ext\"]\n",
    "            image_name = f\"page_{page_num+1}_img_{img_index+1}.{image_ext}\"\n",
    "            \n",
    "           \n",
    "            img_rect = page.get_image_rects(xref)[0]\n",
    "            \n",
    "            \n",
    "            width, height = img_rect.width, img_rect.height\n",
    "            if width > min_dimension and height > min_dimension:\n",
    "                \n",
    "                original_image_path = os.path.join(output_folder, f\"original_{image_name}\")\n",
    "                with open(original_image_path, \"wb\") as img_file:\n",
    "                    img_file.write(image_bytes)\n",
    "                \n",
    "                \n",
    "                text_rect = fitz.Rect(\n",
    "                    img_rect.x0 - margin,\n",
    "                    img_rect.y0 - margin,\n",
    "                    img_rect.x1 + margin,\n",
    "                    img_rect.y1 + margin\n",
    "                )\n",
    "                \n",
    "                \n",
    "                text_around_image = page.get_text(\"text\", clip=text_rect)\n",
    "                text_file_name = f\"{output_folder}/original_{image_name.split('.')[0]}_text.txt\"\n",
    "                \n",
    "                \n",
    "                with open(text_file_name, \"w\", encoding=\"utf-8\") as text_file:\n",
    "                    text_file.write(text_around_image)\n",
    "                \n",
    "                \n",
    "                augmented_images = augment_image(Image.open(original_image_path))\n",
    "                \n",
    "                \n",
    "                for i, augmented_image in enumerate(augmented_images):\n",
    "                    augmented_image_name = f\"augmented_{i+1}_{image_name}\"\n",
    "                    augmented_image_path = os.path.join(output_folder, augmented_image_name)\n",
    "                    augmented_image.save(augmented_image_path)\n",
    "                    \n",
    "                    augmented_text_file_name = f\"{output_folder}/{augmented_image_name.split('.')[0]}_text.txt\"\n",
    "                    with open(augmented_text_file_name, \"w\", encoding=\"utf-8\") as text_file:\n",
    "                        text_file.write(text_around_image)\n",
    "                    \n",
    "            else:\n",
    "                print(f\"Ignored image {image_name} due to insufficient dimensions.\")\n",
    "\n",
    "def augment_image(image):\n",
    "    augmented_images = []\n",
    "    \n",
    "    # Original image\n",
    "    augmented_images.append(image.copy())\n",
    "    \n",
    "    # Rotation\n",
    "    angle = random.uniform(-30, 30)\n",
    "    augmented_images.append(image.rotate(angle))\n",
    "    \n",
    "    # Resizing\n",
    "    width_factor = random.uniform(0.8, 1.2)\n",
    "    height_factor = random.uniform(0.8, 1.2)\n",
    "    new_width = int(image.width * width_factor)\n",
    "    new_height = int(image.height * height_factor)\n",
    "    if new_width > 0 and new_height > 0:\n",
    "        resized_image = image.resize((new_width, new_height))\n",
    "        augmented_images.append(resized_image)\n",
    "    \n",
    "    # Shearing\n",
    "    shear_factor = random.uniform(-0.2, 0.2)\n",
    "    width, height = image.size\n",
    "    xshift = abs(shear_factor) * width\n",
    "    new_width = width + int(round(xshift))\n",
    "    if new_width > 0 and height > 0:\n",
    "        shear_image = image.transform((new_width, height), Image.AFFINE, (1, shear_factor, -xshift if shear_factor > 0 else 0, 0, 1, 0), Image.BICUBIC)\n",
    "        augmented_images.append(shear_image)\n",
    "    \n",
    "    return augmented_images\n",
    "\n",
    "\n",
    "pdf_path = \"well_student.pdf\"\n",
    "output_folder = \"image&caption\"\n",
    "margin = 50  \n",
    "min_dimension = 65  \n",
    "\n",
    "os.makedirs(output_folder, exist_ok=True)\n",
    "\n",
    "extract_augmentedimages_with_text(pdf_path, output_folder, margin, min_dimension)\n"
   ]
  },
  {
   "cell_type": "markdown",
   "id": "12d0163d",
   "metadata": {},
   "source": [
    "Renaming image with their corresponding captions"
   ]
  },
  {
   "cell_type": "code",
   "execution_count": 22,
   "id": "611f735e",
   "metadata": {},
   "outputs": [
    {
     "name": "stdout",
     "output_type": "stream",
     "text": [
      "Renamed image file to: E:\\DESKTOP\\FOD\\Internship Task\\ongc internship\\Image extraction and classification\\image&caption\\completions are used in areas where workover co.png\n",
      "Renamed image file to: E:\\DESKTOP\\FOD\\Internship Task\\ongc internship\\Image extraction and classification\\image&caption\\are usually best. In very deep wells single completion.png\n",
      "Renamed image file to: E:\\DESKTOP\\FOD\\Internship Task\\ongc internship\\Image extraction and classification\\image&caption\\economics of using multiple completions can be attractive. How.png\n",
      "Renamed image file to: E:\\DESKTOP\\FOD\\Internship Task\\ongc internship\\Image extraction and classification\\image&caption\\completion is used primarily in unconsolidated for.png\n",
      "Renamed image file to: E:\\DESKTOP\\FOD\\Internship Task\\ongc internship\\Image extraction and classification\\image&caption\\Figure 6 Showing a perforated cased hole completion for LPLT..jpeg\n",
      "Renamed image file to: E:\\DESKTOP\\FOD\\Internship Task\\ongc internship\\Image extraction and classification\\image&caption\\Fi.jpeg\n",
      "Renamed image file to: E:\\DESKTOP\\FOD\\Internship Task\\ongc internship\\Image extraction and classification\\image&caption\\(Fig. 8). However there are some specialized retrievable.jpeg\n",
      "Renamed image file to: E:\\DESKTOP\\FOD\\Internship Task\\ongc internship\\Image extraction and classification\\image&caption\\Figure 9 Multiple-zone single-string selective completion..jpeg\n",
      "An error occurred: 'charmap' codec can't decode byte 0x9d in position 102: character maps to <undefined>\n",
      "Renamed image file to: E:\\DESKTOP\\FOD\\Internship Task\\ongc internship\\Image extraction and classification\\image&caption\\of the cement job. Remedial work to the liner may be required bef.jpeg\n",
      "Renamed image file to: E:\\DESKTOP\\FOD\\Internship Task\\ongc internship\\Image extraction and classification\\image&caption\\top. The packer provides a more positive annular barrier and a new PBR has been.png\n",
      "Renamed image file to: E:\\DESKTOP\\FOD\\Internship Task\\ongc internship\\Image extraction and classification\\image&caption\\y.jpeg\n",
      "Renamed image file to: E:\\DESKTOP\\FOD\\Internship Task\\ongc internship\\Image extraction and classification\\image&caption\\30.jpeg\n",
      "Renamed image file to: E:\\DESKTOP\\FOD\\Internship Task\\ongc internship\\Image extraction and classification\\image&caption\\re 15Top set openhole gravel-pack completion courtesy of B.png\n",
      "An error occurred: [WinError 183] Cannot create a file when that file already exists: 'E:\\\\DESKTOP\\\\FOD\\\\Internship Task\\\\ongc internship\\\\Image extraction and classification\\\\image&caption\\\\augmented_2_page_12_img_1.png' -> 'E:\\\\DESKTOP\\\\FOD\\\\Internship Task\\\\ongc internship\\\\Image extraction and classification\\\\image&caption\\\\completions are used in areas where workover co.png'\n",
      "An error occurred: [WinError 183] Cannot create a file when that file already exists: 'E:\\\\DESKTOP\\\\FOD\\\\Internship Task\\\\ongc internship\\\\Image extraction and classification\\\\image&caption\\\\augmented_2_page_13_img_1.png' -> 'E:\\\\DESKTOP\\\\FOD\\\\Internship Task\\\\ongc internship\\\\Image extraction and classification\\\\image&caption\\\\are usually best. In very deep wells single completion.png'\n",
      "An error occurred: [WinError 183] Cannot create a file when that file already exists: 'E:\\\\DESKTOP\\\\FOD\\\\Internship Task\\\\ongc internship\\\\Image extraction and classification\\\\image&caption\\\\augmented_2_page_14_img_1.png' -> 'E:\\\\DESKTOP\\\\FOD\\\\Internship Task\\\\ongc internship\\\\Image extraction and classification\\\\image&caption\\\\economics of using multiple completions can be attractive. How.png'\n",
      "An error occurred: [WinError 183] Cannot create a file when that file already exists: 'E:\\\\DESKTOP\\\\FOD\\\\Internship Task\\\\ongc internship\\\\Image extraction and classification\\\\image&caption\\\\augmented_2_page_15_img_1.png' -> 'E:\\\\DESKTOP\\\\FOD\\\\Internship Task\\\\ongc internship\\\\Image extraction and classification\\\\image&caption\\\\completion is used primarily in unconsolidated for.png'\n",
      "An error occurred: [WinError 183] Cannot create a file when that file already exists: 'E:\\\\DESKTOP\\\\FOD\\\\Internship Task\\\\ongc internship\\\\Image extraction and classification\\\\image&caption\\\\augmented_2_page_18_img_1.jpeg' -> 'E:\\\\DESKTOP\\\\FOD\\\\Internship Task\\\\ongc internship\\\\Image extraction and classification\\\\image&caption\\\\Figure 6 Showing a perforated cased hole completion for LPLT..jpeg'\n",
      "An error occurred: [WinError 183] Cannot create a file when that file already exists: 'E:\\\\DESKTOP\\\\FOD\\\\Internship Task\\\\ongc internship\\\\Image extraction and classification\\\\image&caption\\\\augmented_2_page_19_img_1.jpeg' -> 'E:\\\\DESKTOP\\\\FOD\\\\Internship Task\\\\ongc internship\\\\Image extraction and classification\\\\image&caption\\\\Fi.jpeg'\n",
      "An error occurred: [WinError 183] Cannot create a file when that file already exists: 'E:\\\\DESKTOP\\\\FOD\\\\Internship Task\\\\ongc internship\\\\Image extraction and classification\\\\image&caption\\\\augmented_2_page_20_img_1.jpeg' -> 'E:\\\\DESKTOP\\\\FOD\\\\Internship Task\\\\ongc internship\\\\Image extraction and classification\\\\image&caption\\\\(Fig. 8). However there are some specialized retrievable.jpeg'\n",
      "An error occurred: [WinError 183] Cannot create a file when that file already exists: 'E:\\\\DESKTOP\\\\FOD\\\\Internship Task\\\\ongc internship\\\\Image extraction and classification\\\\image&caption\\\\augmented_2_page_22_img_1.jpeg' -> 'E:\\\\DESKTOP\\\\FOD\\\\Internship Task\\\\ongc internship\\\\Image extraction and classification\\\\image&caption\\\\Figure 9 Multiple-zone single-string selective completion..jpeg'\n",
      "An error occurred: 'charmap' codec can't decode byte 0x9d in position 102: character maps to <undefined>\n",
      "An error occurred: [WinError 183] Cannot create a file when that file already exists: 'E:\\\\DESKTOP\\\\FOD\\\\Internship Task\\\\ongc internship\\\\Image extraction and classification\\\\image&caption\\\\augmented_2_page_25_img_1.jpeg' -> 'E:\\\\DESKTOP\\\\FOD\\\\Internship Task\\\\ongc internship\\\\Image extraction and classification\\\\image&caption\\\\of the cement job. Remedial work to the liner may be required bef.jpeg'\n",
      "An error occurred: [WinError 183] Cannot create a file when that file already exists: 'E:\\\\DESKTOP\\\\FOD\\\\Internship Task\\\\ongc internship\\\\Image extraction and classification\\\\image&caption\\\\augmented_2_page_26_img_1.png' -> 'E:\\\\DESKTOP\\\\FOD\\\\Internship Task\\\\ongc internship\\\\Image extraction and classification\\\\image&caption\\\\top. The packer provides a more positive annular barrier and a new PBR has been.png'\n",
      "An error occurred: [WinError 183] Cannot create a file when that file already exists: 'E:\\\\DESKTOP\\\\FOD\\\\Internship Task\\\\ongc internship\\\\Image extraction and classification\\\\image&caption\\\\augmented_2_page_27_img_1.jpeg' -> 'E:\\\\DESKTOP\\\\FOD\\\\Internship Task\\\\ongc internship\\\\Image extraction and classification\\\\image&caption\\\\y.jpeg'\n",
      "An error occurred: [WinError 183] Cannot create a file when that file already exists: 'E:\\\\DESKTOP\\\\FOD\\\\Internship Task\\\\ongc internship\\\\Image extraction and classification\\\\image&caption\\\\augmented_2_page_31_img_1.jpeg' -> 'E:\\\\DESKTOP\\\\FOD\\\\Internship Task\\\\ongc internship\\\\Image extraction and classification\\\\image&caption\\\\30.jpeg'\n",
      "An error occurred: [WinError 183] Cannot create a file when that file already exists: 'E:\\\\DESKTOP\\\\FOD\\\\Internship Task\\\\ongc internship\\\\Image extraction and classification\\\\image&caption\\\\augmented_2_page_39_img_1.png' -> 'E:\\\\DESKTOP\\\\FOD\\\\Internship Task\\\\ongc internship\\\\Image extraction and classification\\\\image&caption\\\\re 15Top set openhole gravel-pack completion courtesy of B.png'\n",
      "An error occurred: [WinError 183] Cannot create a file when that file already exists: 'E:\\\\DESKTOP\\\\FOD\\\\Internship Task\\\\ongc internship\\\\Image extraction and classification\\\\image&caption\\\\augmented_3_page_12_img_1.png' -> 'E:\\\\DESKTOP\\\\FOD\\\\Internship Task\\\\ongc internship\\\\Image extraction and classification\\\\image&caption\\\\completions are used in areas where workover co.png'\n",
      "An error occurred: [WinError 183] Cannot create a file when that file already exists: 'E:\\\\DESKTOP\\\\FOD\\\\Internship Task\\\\ongc internship\\\\Image extraction and classification\\\\image&caption\\\\augmented_3_page_13_img_1.png' -> 'E:\\\\DESKTOP\\\\FOD\\\\Internship Task\\\\ongc internship\\\\Image extraction and classification\\\\image&caption\\\\are usually best. In very deep wells single completion.png'\n",
      "An error occurred: [WinError 183] Cannot create a file when that file already exists: 'E:\\\\DESKTOP\\\\FOD\\\\Internship Task\\\\ongc internship\\\\Image extraction and classification\\\\image&caption\\\\augmented_3_page_14_img_1.png' -> 'E:\\\\DESKTOP\\\\FOD\\\\Internship Task\\\\ongc internship\\\\Image extraction and classification\\\\image&caption\\\\economics of using multiple completions can be attractive. How.png'\n",
      "An error occurred: [WinError 183] Cannot create a file when that file already exists: 'E:\\\\DESKTOP\\\\FOD\\\\Internship Task\\\\ongc internship\\\\Image extraction and classification\\\\image&caption\\\\augmented_3_page_15_img_1.png' -> 'E:\\\\DESKTOP\\\\FOD\\\\Internship Task\\\\ongc internship\\\\Image extraction and classification\\\\image&caption\\\\completion is used primarily in unconsolidated for.png'\n",
      "An error occurred: [WinError 183] Cannot create a file when that file already exists: 'E:\\\\DESKTOP\\\\FOD\\\\Internship Task\\\\ongc internship\\\\Image extraction and classification\\\\image&caption\\\\augmented_3_page_18_img_1.jpeg' -> 'E:\\\\DESKTOP\\\\FOD\\\\Internship Task\\\\ongc internship\\\\Image extraction and classification\\\\image&caption\\\\Figure 6 Showing a perforated cased hole completion for LPLT..jpeg'\n",
      "An error occurred: [WinError 183] Cannot create a file when that file already exists: 'E:\\\\DESKTOP\\\\FOD\\\\Internship Task\\\\ongc internship\\\\Image extraction and classification\\\\image&caption\\\\augmented_3_page_19_img_1.jpeg' -> 'E:\\\\DESKTOP\\\\FOD\\\\Internship Task\\\\ongc internship\\\\Image extraction and classification\\\\image&caption\\\\Fi.jpeg'\n",
      "An error occurred: [WinError 183] Cannot create a file when that file already exists: 'E:\\\\DESKTOP\\\\FOD\\\\Internship Task\\\\ongc internship\\\\Image extraction and classification\\\\image&caption\\\\augmented_3_page_20_img_1.jpeg' -> 'E:\\\\DESKTOP\\\\FOD\\\\Internship Task\\\\ongc internship\\\\Image extraction and classification\\\\image&caption\\\\(Fig. 8). However there are some specialized retrievable.jpeg'\n",
      "An error occurred: [WinError 183] Cannot create a file when that file already exists: 'E:\\\\DESKTOP\\\\FOD\\\\Internship Task\\\\ongc internship\\\\Image extraction and classification\\\\image&caption\\\\augmented_3_page_22_img_1.jpeg' -> 'E:\\\\DESKTOP\\\\FOD\\\\Internship Task\\\\ongc internship\\\\Image extraction and classification\\\\image&caption\\\\Figure 9 Multiple-zone single-string selective completion..jpeg'\n",
      "An error occurred: 'charmap' codec can't decode byte 0x9d in position 102: character maps to <undefined>\n",
      "An error occurred: [WinError 183] Cannot create a file when that file already exists: 'E:\\\\DESKTOP\\\\FOD\\\\Internship Task\\\\ongc internship\\\\Image extraction and classification\\\\image&caption\\\\augmented_3_page_25_img_1.jpeg' -> 'E:\\\\DESKTOP\\\\FOD\\\\Internship Task\\\\ongc internship\\\\Image extraction and classification\\\\image&caption\\\\of the cement job. Remedial work to the liner may be required bef.jpeg'\n",
      "An error occurred: [WinError 183] Cannot create a file when that file already exists: 'E:\\\\DESKTOP\\\\FOD\\\\Internship Task\\\\ongc internship\\\\Image extraction and classification\\\\image&caption\\\\augmented_3_page_26_img_1.png' -> 'E:\\\\DESKTOP\\\\FOD\\\\Internship Task\\\\ongc internship\\\\Image extraction and classification\\\\image&caption\\\\top. The packer provides a more positive annular barrier and a new PBR has been.png'\n",
      "An error occurred: [WinError 183] Cannot create a file when that file already exists: 'E:\\\\DESKTOP\\\\FOD\\\\Internship Task\\\\ongc internship\\\\Image extraction and classification\\\\image&caption\\\\augmented_3_page_27_img_1.jpeg' -> 'E:\\\\DESKTOP\\\\FOD\\\\Internship Task\\\\ongc internship\\\\Image extraction and classification\\\\image&caption\\\\y.jpeg'\n",
      "An error occurred: [WinError 183] Cannot create a file when that file already exists: 'E:\\\\DESKTOP\\\\FOD\\\\Internship Task\\\\ongc internship\\\\Image extraction and classification\\\\image&caption\\\\augmented_3_page_31_img_1.jpeg' -> 'E:\\\\DESKTOP\\\\FOD\\\\Internship Task\\\\ongc internship\\\\Image extraction and classification\\\\image&caption\\\\30.jpeg'\n",
      "An error occurred: [WinError 183] Cannot create a file when that file already exists: 'E:\\\\DESKTOP\\\\FOD\\\\Internship Task\\\\ongc internship\\\\Image extraction and classification\\\\image&caption\\\\augmented_3_page_39_img_1.png' -> 'E:\\\\DESKTOP\\\\FOD\\\\Internship Task\\\\ongc internship\\\\Image extraction and classification\\\\image&caption\\\\re 15Top set openhole gravel-pack completion courtesy of B.png'\n",
      "An error occurred: [WinError 183] Cannot create a file when that file already exists: 'E:\\\\DESKTOP\\\\FOD\\\\Internship Task\\\\ongc internship\\\\Image extraction and classification\\\\image&caption\\\\augmented_4_page_12_img_1.png' -> 'E:\\\\DESKTOP\\\\FOD\\\\Internship Task\\\\ongc internship\\\\Image extraction and classification\\\\image&caption\\\\completions are used in areas where workover co.png'\n",
      "An error occurred: [WinError 183] Cannot create a file when that file already exists: 'E:\\\\DESKTOP\\\\FOD\\\\Internship Task\\\\ongc internship\\\\Image extraction and classification\\\\image&caption\\\\augmented_4_page_13_img_1.png' -> 'E:\\\\DESKTOP\\\\FOD\\\\Internship Task\\\\ongc internship\\\\Image extraction and classification\\\\image&caption\\\\are usually best. In very deep wells single completion.png'\n",
      "An error occurred: [WinError 183] Cannot create a file when that file already exists: 'E:\\\\DESKTOP\\\\FOD\\\\Internship Task\\\\ongc internship\\\\Image extraction and classification\\\\image&caption\\\\augmented_4_page_14_img_1.png' -> 'E:\\\\DESKTOP\\\\FOD\\\\Internship Task\\\\ongc internship\\\\Image extraction and classification\\\\image&caption\\\\economics of using multiple completions can be attractive. How.png'\n",
      "An error occurred: [WinError 183] Cannot create a file when that file already exists: 'E:\\\\DESKTOP\\\\FOD\\\\Internship Task\\\\ongc internship\\\\Image extraction and classification\\\\image&caption\\\\augmented_4_page_15_img_1.png' -> 'E:\\\\DESKTOP\\\\FOD\\\\Internship Task\\\\ongc internship\\\\Image extraction and classification\\\\image&caption\\\\completion is used primarily in unconsolidated for.png'\n",
      "An error occurred: [WinError 183] Cannot create a file when that file already exists: 'E:\\\\DESKTOP\\\\FOD\\\\Internship Task\\\\ongc internship\\\\Image extraction and classification\\\\image&caption\\\\augmented_4_page_18_img_1.jpeg' -> 'E:\\\\DESKTOP\\\\FOD\\\\Internship Task\\\\ongc internship\\\\Image extraction and classification\\\\image&caption\\\\Figure 6 Showing a perforated cased hole completion for LPLT..jpeg'\n",
      "An error occurred: [WinError 183] Cannot create a file when that file already exists: 'E:\\\\DESKTOP\\\\FOD\\\\Internship Task\\\\ongc internship\\\\Image extraction and classification\\\\image&caption\\\\augmented_4_page_19_img_1.jpeg' -> 'E:\\\\DESKTOP\\\\FOD\\\\Internship Task\\\\ongc internship\\\\Image extraction and classification\\\\image&caption\\\\Fi.jpeg'\n",
      "An error occurred: [WinError 183] Cannot create a file when that file already exists: 'E:\\\\DESKTOP\\\\FOD\\\\Internship Task\\\\ongc internship\\\\Image extraction and classification\\\\image&caption\\\\augmented_4_page_20_img_1.jpeg' -> 'E:\\\\DESKTOP\\\\FOD\\\\Internship Task\\\\ongc internship\\\\Image extraction and classification\\\\image&caption\\\\(Fig. 8). However there are some specialized retrievable.jpeg'\n",
      "An error occurred: [WinError 183] Cannot create a file when that file already exists: 'E:\\\\DESKTOP\\\\FOD\\\\Internship Task\\\\ongc internship\\\\Image extraction and classification\\\\image&caption\\\\augmented_4_page_22_img_1.jpeg' -> 'E:\\\\DESKTOP\\\\FOD\\\\Internship Task\\\\ongc internship\\\\Image extraction and classification\\\\image&caption\\\\Figure 9 Multiple-zone single-string selective completion..jpeg'\n",
      "An error occurred: 'charmap' codec can't decode byte 0x9d in position 102: character maps to <undefined>\n",
      "An error occurred: [WinError 183] Cannot create a file when that file already exists: 'E:\\\\DESKTOP\\\\FOD\\\\Internship Task\\\\ongc internship\\\\Image extraction and classification\\\\image&caption\\\\augmented_4_page_25_img_1.jpeg' -> 'E:\\\\DESKTOP\\\\FOD\\\\Internship Task\\\\ongc internship\\\\Image extraction and classification\\\\image&caption\\\\of the cement job. Remedial work to the liner may be required bef.jpeg'\n",
      "An error occurred: [WinError 183] Cannot create a file when that file already exists: 'E:\\\\DESKTOP\\\\FOD\\\\Internship Task\\\\ongc internship\\\\Image extraction and classification\\\\image&caption\\\\augmented_4_page_26_img_1.png' -> 'E:\\\\DESKTOP\\\\FOD\\\\Internship Task\\\\ongc internship\\\\Image extraction and classification\\\\image&caption\\\\top. The packer provides a more positive annular barrier and a new PBR has been.png'\n",
      "An error occurred: [WinError 183] Cannot create a file when that file already exists: 'E:\\\\DESKTOP\\\\FOD\\\\Internship Task\\\\ongc internship\\\\Image extraction and classification\\\\image&caption\\\\augmented_4_page_27_img_1.jpeg' -> 'E:\\\\DESKTOP\\\\FOD\\\\Internship Task\\\\ongc internship\\\\Image extraction and classification\\\\image&caption\\\\y.jpeg'\n",
      "An error occurred: [WinError 183] Cannot create a file when that file already exists: 'E:\\\\DESKTOP\\\\FOD\\\\Internship Task\\\\ongc internship\\\\Image extraction and classification\\\\image&caption\\\\augmented_4_page_31_img_1.jpeg' -> 'E:\\\\DESKTOP\\\\FOD\\\\Internship Task\\\\ongc internship\\\\Image extraction and classification\\\\image&caption\\\\30.jpeg'\n",
      "An error occurred: [WinError 183] Cannot create a file when that file already exists: 'E:\\\\DESKTOP\\\\FOD\\\\Internship Task\\\\ongc internship\\\\Image extraction and classification\\\\image&caption\\\\augmented_4_page_39_img_1.png' -> 'E:\\\\DESKTOP\\\\FOD\\\\Internship Task\\\\ongc internship\\\\Image extraction and classification\\\\image&caption\\\\re 15Top set openhole gravel-pack completion courtesy of B.png'\n",
      "An error occurred: [WinError 183] Cannot create a file when that file already exists: 'E:\\\\DESKTOP\\\\FOD\\\\Internship Task\\\\ongc internship\\\\Image extraction and classification\\\\image&caption\\\\original_page_12_img_1.png' -> 'E:\\\\DESKTOP\\\\FOD\\\\Internship Task\\\\ongc internship\\\\Image extraction and classification\\\\image&caption\\\\completions are used in areas where workover co.png'\n",
      "An error occurred: [WinError 183] Cannot create a file when that file already exists: 'E:\\\\DESKTOP\\\\FOD\\\\Internship Task\\\\ongc internship\\\\Image extraction and classification\\\\image&caption\\\\original_page_13_img_1.png' -> 'E:\\\\DESKTOP\\\\FOD\\\\Internship Task\\\\ongc internship\\\\Image extraction and classification\\\\image&caption\\\\are usually best. In very deep wells single completion.png'\n",
      "An error occurred: [WinError 183] Cannot create a file when that file already exists: 'E:\\\\DESKTOP\\\\FOD\\\\Internship Task\\\\ongc internship\\\\Image extraction and classification\\\\image&caption\\\\original_page_14_img_1.png' -> 'E:\\\\DESKTOP\\\\FOD\\\\Internship Task\\\\ongc internship\\\\Image extraction and classification\\\\image&caption\\\\economics of using multiple completions can be attractive. How.png'\n",
      "An error occurred: [WinError 183] Cannot create a file when that file already exists: 'E:\\\\DESKTOP\\\\FOD\\\\Internship Task\\\\ongc internship\\\\Image extraction and classification\\\\image&caption\\\\original_page_15_img_1.png' -> 'E:\\\\DESKTOP\\\\FOD\\\\Internship Task\\\\ongc internship\\\\Image extraction and classification\\\\image&caption\\\\completion is used primarily in unconsolidated for.png'\n",
      "An error occurred: [WinError 183] Cannot create a file when that file already exists: 'E:\\\\DESKTOP\\\\FOD\\\\Internship Task\\\\ongc internship\\\\Image extraction and classification\\\\image&caption\\\\original_page_18_img_1.jpeg' -> 'E:\\\\DESKTOP\\\\FOD\\\\Internship Task\\\\ongc internship\\\\Image extraction and classification\\\\image&caption\\\\Figure 6 Showing a perforated cased hole completion for LPLT..jpeg'\n",
      "An error occurred: [WinError 183] Cannot create a file when that file already exists: 'E:\\\\DESKTOP\\\\FOD\\\\Internship Task\\\\ongc internship\\\\Image extraction and classification\\\\image&caption\\\\original_page_19_img_1.jpeg' -> 'E:\\\\DESKTOP\\\\FOD\\\\Internship Task\\\\ongc internship\\\\Image extraction and classification\\\\image&caption\\\\Fi.jpeg'\n",
      "An error occurred: [WinError 183] Cannot create a file when that file already exists: 'E:\\\\DESKTOP\\\\FOD\\\\Internship Task\\\\ongc internship\\\\Image extraction and classification\\\\image&caption\\\\original_page_20_img_1.jpeg' -> 'E:\\\\DESKTOP\\\\FOD\\\\Internship Task\\\\ongc internship\\\\Image extraction and classification\\\\image&caption\\\\(Fig. 8). However there are some specialized retrievable.jpeg'\n",
      "An error occurred: [WinError 183] Cannot create a file when that file already exists: 'E:\\\\DESKTOP\\\\FOD\\\\Internship Task\\\\ongc internship\\\\Image extraction and classification\\\\image&caption\\\\original_page_22_img_1.jpeg' -> 'E:\\\\DESKTOP\\\\FOD\\\\Internship Task\\\\ongc internship\\\\Image extraction and classification\\\\image&caption\\\\Figure 9 Multiple-zone single-string selective completion..jpeg'\n",
      "An error occurred: 'charmap' codec can't decode byte 0x9d in position 102: character maps to <undefined>\n",
      "An error occurred: [WinError 183] Cannot create a file when that file already exists: 'E:\\\\DESKTOP\\\\FOD\\\\Internship Task\\\\ongc internship\\\\Image extraction and classification\\\\image&caption\\\\original_page_25_img_1.jpeg' -> 'E:\\\\DESKTOP\\\\FOD\\\\Internship Task\\\\ongc internship\\\\Image extraction and classification\\\\image&caption\\\\of the cement job. Remedial work to the liner may be required bef.jpeg'\n",
      "An error occurred: [WinError 183] Cannot create a file when that file already exists: 'E:\\\\DESKTOP\\\\FOD\\\\Internship Task\\\\ongc internship\\\\Image extraction and classification\\\\image&caption\\\\original_page_26_img_1.png' -> 'E:\\\\DESKTOP\\\\FOD\\\\Internship Task\\\\ongc internship\\\\Image extraction and classification\\\\image&caption\\\\top. The packer provides a more positive annular barrier and a new PBR has been.png'\n",
      "An error occurred: [WinError 183] Cannot create a file when that file already exists: 'E:\\\\DESKTOP\\\\FOD\\\\Internship Task\\\\ongc internship\\\\Image extraction and classification\\\\image&caption\\\\original_page_27_img_1.jpeg' -> 'E:\\\\DESKTOP\\\\FOD\\\\Internship Task\\\\ongc internship\\\\Image extraction and classification\\\\image&caption\\\\y.jpeg'\n",
      "An error occurred: [WinError 183] Cannot create a file when that file already exists: 'E:\\\\DESKTOP\\\\FOD\\\\Internship Task\\\\ongc internship\\\\Image extraction and classification\\\\image&caption\\\\original_page_31_img_1.jpeg' -> 'E:\\\\DESKTOP\\\\FOD\\\\Internship Task\\\\ongc internship\\\\Image extraction and classification\\\\image&caption\\\\30.jpeg'\n",
      "An error occurred: [WinError 183] Cannot create a file when that file already exists: 'E:\\\\DESKTOP\\\\FOD\\\\Internship Task\\\\ongc internship\\\\Image extraction and classification\\\\image&caption\\\\original_page_39_img_1.png' -> 'E:\\\\DESKTOP\\\\FOD\\\\Internship Task\\\\ongc internship\\\\Image extraction and classification\\\\image&caption\\\\re 15Top set openhole gravel-pack completion courtesy of B.png'\n"
     ]
    }
   ],
   "source": [
    "import os\n",
    "\n",
    "def rename_images_in_folder(folder_path):\n",
    "    for filename in os.listdir(folder_path):\n",
    "        if filename.endswith('_text.txt'):\n",
    "            text_file_path = os.path.join(folder_path, filename)\n",
    "            \n",
    "          \n",
    "            image_extensions = ['.jpeg', '.jpg', '.png']\n",
    "            img = None\n",
    "            \n",
    "            for ext in image_extensions:\n",
    "                potential_image_path = text_file_path.replace('_text.txt', ext)\n",
    "                if os.path.exists(potential_image_path):\n",
    "                    img = potential_image_path\n",
    "                    break\n",
    "            \n",
    "            if img and os.path.exists(text_file_path):\n",
    "                try:\n",
    "                    with open(text_file_path, 'r') as file:\n",
    "                        text = file.read().strip()\n",
    "\n",
    "                    if text:\n",
    "                        new_name = text.splitlines()[0].strip()\n",
    "                        valid_chars = \"-_.() abcdefghijklmnopqrstuvwxyzABCDEFGHIJKLMNOPQRSTUVWXYZ0123456789\"\n",
    "                        sanitized_name = ''.join(c for c in new_name if c in valid_chars)\n",
    "                        \n",
    "                        new_image_file_path = os.path.join(os.path.dirname(img), sanitized_name + os.path.splitext(img)[1])\n",
    "                        \n",
    "                        os.rename(img, new_image_file_path)\n",
    "                        print(f\"Renamed image file to: {new_image_file_path}\")\n",
    "                    else:\n",
    "                        print(f\"No valid text found in {text_file_path}. Image file name remains unchanged.\")\n",
    "                except PermissionError as e:\n",
    "                    print(f\"Permission error: {e}\")\n",
    "                except Exception as e:\n",
    "                    print(f\"An error occurred: {e}\")\n",
    "            else:\n",
    "                print(f\"Text file or image file not found: {text_file_path}\")\n",
    "\n",
    "# Replace 'your_folder_path' with the actual path to your folder\n",
    "folder_path = r'image&caption'\n",
    "rename_images_in_folder(folder_path)\n"
   ]
  },
  {
   "cell_type": "markdown",
   "id": "5523d319",
   "metadata": {},
   "source": [
    "using nlp and spacy library to classify image based on text(i.e caption)"
   ]
  },
  {
   "cell_type": "code",
   "execution_count": 23,
   "id": "0d3e2d94",
   "metadata": {},
   "outputs": [],
   "source": [
    "import os\n",
    "import shutil\n",
    "import spacy\n"
   ]
  },
  {
   "cell_type": "code",
   "execution_count": 24,
   "id": "86f2f005",
   "metadata": {},
   "outputs": [],
   "source": [
    "nlp = spacy.load(\"en_core_web_lg\")\n",
    "\n",
    "def categorize_images(image_folder):\n",
    "    image_files = os.listdir(image_folder)\n",
    "    categories = [\n",
    "        \"location map\", \"geological map\", \"structural map\", \"seismic section\", \n",
    "        \"log motive\", \"well construction diagram\", \"geotechnical order\",\n",
    "        \"remote sensing image\", \"contour maps\", \"drilling plot\", \n",
    "        \"stratigraphy and casing plot\"\n",
    "    ]\n",
    "\n",
    "    \n",
    "    category_dir = \"categories/\"\n",
    "    if os.path.exists(category_dir):\n",
    "        shutil.rmtree(category_dir)\n",
    "    os.makedirs(category_dir)\n",
    "\n",
    "    for category in categories:\n",
    "        os.makedirs(os.path.join(category_dir, category))\n",
    "\n",
    " \n",
    "    os.makedirs(os.path.join(category_dir, \"other\"))\n",
    "\n",
    "    for file in image_files:\n",
    "        if file.endswith(('.jpeg', '.png')):  \n",
    "            cleaned_name = file.lower().replace(\".jpeg\", \"\").replace(\".png\", \"\").replace(\"_\", \" \")\n",
    "            doc_nlp = nlp(cleaned_name)\n",
    "            \n",
    "            if not doc_nlp.has_vector:\n",
    "                print(f\"Warning: The document '{cleaned_name}' has no vector representation.\")\n",
    "                shutil.copy(os.path.join(image_folder, file), os.path.join(category_dir, \"other\", file))\n",
    "                continue\n",
    "\n",
    "            best_category = None\n",
    "            highest_sim = 0\n",
    "\n",
    "            for category in categories:\n",
    "                category_nlp = nlp(category)\n",
    "                \n",
    "                if not category_nlp.has_vector:\n",
    "                    print(f\"Warning: The category '{category}' has no vector representation.\")\n",
    "                    continue\n",
    "                \n",
    "                sim = doc_nlp.similarity(category_nlp)\n",
    "                \n",
    "                if sim > highest_sim:\n",
    "                    highest_sim = sim\n",
    "                    best_category = category\n",
    "\n",
    "            if best_category and highest_sim > 0.5: \n",
    "                shutil.copy(os.path.join(image_folder, file), os.path.join(category_dir, best_category, file))\n",
    "            else:\n",
    "                shutil.copy(os.path.join(image_folder, file), os.path.join(category_dir, \"other\", file))\n",
    "\n",
    "\n",
    "image_folder = \"image&caption\"\n",
    "categorize_images(image_folder)"
   ]
  }
 ],
 "metadata": {
  "kernelspec": {
   "display_name": "Python 3 (ipykernel)",
   "language": "python",
   "name": "python3"
  },
  "language_info": {
   "codemirror_mode": {
    "name": "ipython",
    "version": 3
   },
   "file_extension": ".py",
   "mimetype": "text/x-python",
   "name": "python",
   "nbconvert_exporter": "python",
   "pygments_lexer": "ipython3",
   "version": "3.11.5"
  }
 },
 "nbformat": 4,
 "nbformat_minor": 5
}
